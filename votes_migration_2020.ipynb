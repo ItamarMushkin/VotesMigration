{
 "cells": [
  {
   "cell_type": "code",
   "execution_count": null,
   "metadata": {
    "collapsed": true
   },
   "outputs": [],
   "source": [
    "from functions.assorted_functions import *\n"
   ]
  },
  {
   "cell_type": "code",
   "execution_count": null,
   "metadata": {},
   "outputs": [],
   "source": [
    "votes_2020 = read_votes_file('votes per booth 2020.csv')\n",
    "votes_2019b = read_votes_file('votes per booth 2019b.csv')\n",
    "stable_2020 = read_stable_booths_file('stable_kalp_2020a.csv')\n",
    "\n",
    "align_consecutive_elections(votes_2019b, votes_2020, stable_2020)\n",
    "\n",
    "normalize_voters_and_turnout(votes_2019b, votes_2020)\n",
    "\n",
    "group_minor_parties(votes_2019b)\n",
    "group_minor_parties(votes_2020)\n",
    "assert_datasets_aligned(votes_2019b, votes_2020)"
   ]
  },
  {
   "cell_type": "code",
   "execution_count": null,
   "metadata": {},
   "outputs": [],
   "source": [
    "votes_2019b.head()"
   ]
  },
  {
   "cell_type": "code",
   "execution_count": null,
   "metadata": {},
   "outputs": [],
   "source": [
    "votes_2020.head()"
   ]
  },
  {
   "cell_type": "code",
   "execution_count": null,
   "metadata": {},
   "outputs": [],
   "source": [
    "transfer_coefficients = solve_transfer_coefficients(votes_2019b, votes_2020)"
   ]
  },
  {
   "cell_type": "code",
   "execution_count": null,
   "metadata": {},
   "outputs": [],
   "source": []
  }
 ],
 "metadata": {
  "kernelspec": {
   "display_name": "Python 2",
   "language": "python",
   "name": "python2"
  },
  "language_info": {
   "codemirror_mode": {
    "name": "ipython",
    "version": 2
   },
   "file_extension": ".py",
   "mimetype": "text/x-python",
   "name": "python",
   "nbconvert_exporter": "python",
   "pygments_lexer": "ipython2",
   "version": "2.7.6"
  }
 },
 "nbformat": 4,
 "nbformat_minor": 0
}
